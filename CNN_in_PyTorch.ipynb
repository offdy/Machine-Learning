{
  "nbformat": 4,
  "nbformat_minor": 0,
  "metadata": {
    "colab": {
      "provenance": [],
      "gpuType": "T4"
    },
    "kernelspec": {
      "name": "python3",
      "display_name": "Python 3"
    },
    "language_info": {
      "name": "python"
    },
    "accelerator": "GPU"
  },
  "cells": [
    {
      "cell_type": "markdown",
      "source": [
        "Image Classification task with CNN\n",
        "----\n",
        "* MNIST 데이터셋을 이용하여 학습\n",
        "* 입력 샘플의 28 X 28개의 특징을 입력 받고 10개의 클래스중 하나로 분류\n",
        "* 2개의 Conv Layer와 Max Pooling Layer 그리고 FC Layer로 구성\n",
        "* Cross-entropy loss"
      ],
      "metadata": {
        "id": "GWht3dw_vulj"
      }
    },
    {
      "cell_type": "code",
      "execution_count": 1,
      "metadata": {
        "id": "lNNJ0IYfQSzw"
      },
      "outputs": [],
      "source": [
        "from sklearn.datasets import fetch_openml\n",
        "dataset = fetch_openml('mnist_784', parser='auto')"
      ]
    },
    {
      "cell_type": "code",
      "source": [
        "import numpy as np\n",
        "import torch\n",
        "X = torch.tensor(dataset.data.to_numpy(np.float32))\n",
        "y = torch.tensor(dataset.target.to_numpy(np.int64))"
      ],
      "metadata": {
        "id": "3IkPqBBiQhs4"
      },
      "execution_count": 2,
      "outputs": []
    },
    {
      "cell_type": "code",
      "source": [
        "X = X.reshape(-1, 1, 28, 28)\n",
        "X.shape"
      ],
      "metadata": {
        "colab": {
          "base_uri": "https://localhost:8080/"
        },
        "id": "6TIOvAPdcMl5",
        "outputId": "f60767be-b74a-43c4-9ce9-f71cecd22f3e"
      },
      "execution_count": 3,
      "outputs": [
        {
          "output_type": "execute_result",
          "data": {
            "text/plain": [
              "torch.Size([70000, 1, 28, 28])"
            ]
          },
          "metadata": {},
          "execution_count": 3
        }
      ]
    },
    {
      "cell_type": "markdown",
      "source": [
        "# Data Visualization"
      ],
      "metadata": {
        "id": "2gNFAAolwtbK"
      }
    },
    {
      "cell_type": "code",
      "source": [
        "import matplotlib.pyplot as plt\n",
        "\n",
        "for i in range(5):\n",
        "  image = X[i, 0]\n",
        "  plt.imshow(image, cmap = \"binary\")\n",
        "  plt.axis(\"off\")\n",
        "  plt.show()"
      ],
      "metadata": {
        "colab": {
          "base_uri": "https://localhost:8080/",
          "height": 1000
        },
        "id": "j7V17MQzcR52",
        "outputId": "590d894e-8a4c-4ffd-ccb7-aca2ec0bd493"
      },
      "execution_count": 4,
      "outputs": [
        {
          "output_type": "display_data",
          "data": {
            "text/plain": [
              "<Figure size 640x480 with 1 Axes>"
            ],
            "image/png": "[encoded data removed]"
          },
          "metadata": {}
        },
        {
          "output_type": "display_data",
          "data": {
            "text/plain": [
              "<Figure size 640x480 with 1 Axes>"
            ],
            "image/png": "[encoded data removed]"
          },
          "metadata": {}
        },
        {
          "output_type": "display_data",
          "data": {
            "text/plain": [
              "<Figure size 640x480 with 1 Axes>"
            ],
            "image/png": "[encoded data removed]"
          },
          "metadata": {}
        },
        {
          "output_type": "display_data",
          "data": {
            "text/plain": [
              "<Figure size 640x480 with 1 Axes>"
            ],
            "image/png": "[encoded data removed]"
          },
          "metadata": {}
        },
        {
          "output_type": "display_data",
          "data": {
            "text/plain": [
              "<Figure size 640x480 with 1 Axes>"
            ],
            "image/png": "[encoded data removed]"
          },
          "metadata": {}
        }
      ]
    },
    {
      "cell_type": "markdown",
      "source": [
        "# Model"
      ],
      "metadata": {
        "id": "SWn5pTNZ-YaM"
      }
    },
    {
      "cell_type": "code",
      "source": [
        "import torch.nn as nn\n",
        "import torch.nn.functional as F\n",
        "\n",
        "class CNN(nn.Module):\n",
        "    def __init__(self, hidden_units):\n",
        "        super().__init__()\n",
        "        self.conv1 = nn.Conv2d(1, 6, 3)\n",
        "        self.pool = nn.MaxPool2d(2, 2)\n",
        "        self.conv2 = nn.Conv2d(6, 16, 3)\n",
        "        self.fc1 = nn.Linear(16 * 5 * 5, hidden_units)\n",
        "        self.fc2 = nn.Linear(hidden_units, 10)\n",
        "\n",
        "    def forward(self, x):\n",
        "        x = self.pool(F.relu(self.conv1(x)))\n",
        "        x = self.pool(F.relu(self.conv2(x)))\n",
        "        x = torch.flatten(x, 1)\n",
        "        x = F.relu(self.fc1(x))\n",
        "        x = self.fc2(x)\n",
        "        return x"
      ],
      "metadata": {
        "id": "gUmlwF9RTu-o"
      },
      "execution_count": 5,
      "outputs": []
    },
    {
      "cell_type": "code",
      "source": [
        "model = CNN(100)\n",
        "optimizer = torch.optim.SGD(model.parameters(), lr=0.01)\n",
        "criterion = nn.CrossEntropyLoss()"
      ],
      "metadata": {
        "id": "KA_nbEa5URhG"
      },
      "execution_count": 7,
      "outputs": []
    },
    {
      "cell_type": "code",
      "source": [
        "def train(model, optimizer, criterion):\n",
        "  for epoch in range(30):\n",
        "    y_pred = model(X)\n",
        "\n",
        "    loss = criterion(y_pred, y)\n",
        "    print(f\"Epoch: {epoch} / Loss: {loss}\")\n",
        "\n",
        "    optimizer.zero_grad()\n",
        "    loss.backward()\n",
        "    optimizer.step()\n",
        "\n",
        "train(model, optimizer, criterion)"
      ],
      "metadata": {
        "colab": {
          "base_uri": "https://localhost:8080/"
        },
        "id": "_zhPAMEPUz6q",
        "outputId": "406db1f2-bdb2-455c-a923-63711366ceee"
      },
      "execution_count": 8,
      "outputs": [
        {
          "output_type": "stream",
          "name": "stdout",
          "text": [
            "Epoch: 0 / Loss: 14.508577346801758\n",
            "Epoch: 1 / Loss: 25.035436630249023\n",
            "Epoch: 2 / Loss: 6.499850749969482\n",
            "Epoch: 3 / Loss: 2.41298246383667\n",
            "Epoch: 4 / Loss: 2.3073713779449463\n",
            "Epoch: 5 / Loss: 2.272169828414917\n",
            "Epoch: 6 / Loss: 2.245969772338867\n",
            "Epoch: 7 / Loss: 2.2217094898223877\n",
            "Epoch: 8 / Loss: 2.1966521739959717\n",
            "Epoch: 9 / Loss: 2.1692585945129395\n",
            "Epoch: 10 / Loss: 2.1383132934570312\n",
            "Epoch: 11 / Loss: 2.102504253387451\n",
            "Epoch: 12 / Loss: 2.0605785846710205\n",
            "Epoch: 13 / Loss: 2.0112619400024414\n",
            "Epoch: 14 / Loss: 1.9532591104507446\n",
            "Epoch: 15 / Loss: 1.8855093717575073\n",
            "Epoch: 16 / Loss: 1.80763840675354\n",
            "Epoch: 17 / Loss: 1.7196890115737915\n",
            "Epoch: 18 / Loss: 1.6224194765090942\n",
            "Epoch: 19 / Loss: 1.5181430578231812\n",
            "Epoch: 20 / Loss: 1.4101020097732544\n",
            "Epoch: 21 / Loss: 1.3019251823425293\n",
            "Epoch: 22 / Loss: 1.1972295045852661\n",
            "Epoch: 23 / Loss: 1.098494529724121\n",
            "Epoch: 24 / Loss: 1.008210301399231\n",
            "Epoch: 25 / Loss: 0.927741527557373\n",
            "Epoch: 26 / Loss: 0.8572919368743896\n",
            "Epoch: 27 / Loss: 0.7964578866958618\n",
            "Epoch: 28 / Loss: 0.7446083426475525\n",
            "Epoch: 29 / Loss: 0.7049466371536255\n"
          ]
        }
      ]
    },
    {
      "cell_type": "code",
      "source": [
        "y_pred = model(X[:5])\n",
        "y_pred.shape"
      ],
      "metadata": {
        "colab": {
          "base_uri": "https://localhost:8080/"
        },
        "id": "LNjYbUricGUo",
        "outputId": "e35cff7e-4c9b-49ac-dab7-c5ed559a4552"
      },
      "execution_count": 9,
      "outputs": [
        {
          "output_type": "execute_result",
          "data": {
            "text/plain": [
              "torch.Size([5, 10])"
            ]
          },
          "metadata": {},
          "execution_count": 9
        }
      ]
    },
    {
      "cell_type": "code",
      "source": [
        "y_pred.argmax(1)"
      ],
      "metadata": {
        "colab": {
          "base_uri": "https://localhost:8080/"
        },
        "id": "4rOgGfU8rSfD",
        "outputId": "3b00d905-98e2-4751-d77a-779cb4ed1d6a"
      },
      "execution_count": 10,
      "outputs": [
        {
          "output_type": "execute_result",
          "data": {
            "text/plain": [
              "tensor([5, 0, 4, 1, 9])"
            ]
          },
          "metadata": {},
          "execution_count": 10
        }
      ]
    }
  ]
}